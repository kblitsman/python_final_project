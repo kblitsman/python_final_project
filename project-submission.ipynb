{
 "cells": [
  {
   "cell_type": "markdown",
   "metadata": {},
   "source": [
    "# Project\n",
    "- Work solo or with one other person\n",
    "- Topic should be something interesting and fun for you\n",
    "- Your code should be written in Python 3.6\n",
    "- Effort roughly equivalent to two homeworks\n",
    "    - perhaps 150-200 lines of code\n",
    "    - sometimes people really get into it, which is fine\n",
    "        - have seen 1,000 line programs, but this is NOT necessary\n",
    "- All I'm really looking for is to see you've learned some Python and can do something with it\n",
    "- Happy to discuss your project with you if you have questions\n",
    "- Hangman games are discouraged(seen a pile of them)"
   ]
  },
  {
   "cell_type": "markdown",
   "metadata": {},
   "source": [
    "# If you did a solo project, fill in this cell\n",
    "\n",
    "```\n",
    "name:\n",
    "UNI: \n",
    "```\n",
    "\n",
    "Submit a zip file named 'yourUNI.zip' to CW2 that includes this notebook, your source, documentation, and data files. The zip must expand into a directory named 'YourUNI', and all your files should be under the YourUNI directory.\n"
   ]
  },
  {
   "cell_type": "markdown",
   "metadata": {},
   "source": [
    "# If you did a project with a partner, fill in this cell\n",
    "\n",
    "```\n",
    "name1:\n",
    "UNI1:\n",
    "\n",
    "name2:\n",
    "UNI2:\n",
    "\n",
    "roughly, who did what:\n",
    "\n",
    "```\n",
    "\n",
    "Each of you should submit the SAME zip file named   \n",
    "'UNI1-UNI2.zip' to CW2. The zip should include this notebook, your source, documentation, and data files. The zip must expand into a directory named 'UNI1-UNI2', and all your files should be under the UNI1-UNI2 directory.\n"
   ]
  },
  {
   "cell_type": "markdown",
   "metadata": {},
   "source": [
    "# What does your project do?\n",
    "\n",
    "...\n",
    "\n"
   ]
  },
  {
   "cell_type": "markdown",
   "metadata": {},
   "source": [
    "# What modules did you use, if any?\n",
    "\n",
    "......"
   ]
  },
  {
   "cell_type": "markdown",
   "metadata": {},
   "source": [
    "# Explain how we can run your project\n",
    "- Make sure you include all python and data files\n",
    "- If your project has graphics, include some snapshots\n",
    "- Any documentation should be written in a notebook\n",
    "    - do NOT submit ASCII/plain text, PDFs, Word files, etc.\n",
    "- If for some reason it is not feasible for us to run your project, make an appointment with Larry to demo it\n",
    "\n",
    "\n",
    ".....\n"
   ]
  },
  {
   "cell_type": "markdown",
   "metadata": {},
   "source": [
    "# An evaluation of Python's suitability to your task\n",
    "    - Were any problems encountered?\n",
    "    - Was Python a good fit for your project?\n",
    "        - In retrospect, would you have preferred to use another language for your project - R, Java, Matlab, etc\n",
    "        - Be honest! You don't have to praise Python. I want to hear about your actual experience. \n",
    "        \n",
    "\n",
    "....."
   ]
  },
  {
   "cell_type": "code",
   "execution_count": 3,
   "metadata": {
    "collapsed": true
   },
   "outputs": [],
   "source": [
    "from selenium import webdriver\n",
    "import requests\n",
    "import time\n",
    "\n",
    "def save_page(url, out_file, wait_for_class='search-card'):\n",
    "    \"\"\" Saves a page, using the Selenium browser testing framework to run any Javascript\n",
    "        , writing the resulting final DOM as HTML source to disk.\n",
    "        Waits until element of a given class is loaded to make sure Javascript has actually\n",
    "        completed before source is retrieved. \"\"\"\n",
    "\n",
    "    browser = webdriver.Chrome()\n",
    "    browser.get(url)\n",
    "    # Wait until elment with given class is loaded\n",
    "    while True:\n",
    "        try:\n",
    "            # if the element cannot be found, this will throw\n",
    "            browser.find_element_by_class_name(wait_for_class)\n",
    "            break # otherwise the loop will end here\n",
    "        except:\n",
    "            pass # do nothing, try again\n",
    "    # source has loaded - write out result\n",
    "    open(out_file, 'w').write(browser.page_source)\n",
    "\n",
    "#loop through 42 pages of search results & save to working directory\n",
    "page = 0    \n",
    "while page <= 41:\n",
    "    url = 'https://www.vitals.com/search?display_type=Doctor&state=NY&page=' + str(page)\n",
    "    page += 1\n",
    "    save_page(url, '/home/katya/Documents/Py Final Project/Pages/Vitals' + str(page) + \".html\")"
   ]
  },
  {
   "cell_type": "code",
   "execution_count": 92,
   "metadata": {
    "scrolled": true
   },
   "outputs": [],
   "source": [
    "import re\n",
    "from bs4 import BeautifulSoup\n",
    "\n",
    "def parse_page(filepath):\n",
    "    page_contents = open(filepath).read().strip()\n",
    "    my_soup = BeautifulSoup(page_contents, \"html.parser\")\n",
    "    data = []\n",
    "    for card in my_soup.findAll(\"div\", attrs = {\"class\": \"search-card\"}):\n",
    "        name_element = card.find(\"span\", attrs = {\"class\": \"name\"})\n",
    "        if name_element == None:\n",
    "            continue\n",
    "        name = name_element.text.strip()\n",
    "        specialty_element = card.find(\"span\", attrs = {\"class\": \"specialty\"})\n",
    "        if specialty_element == None:\n",
    "            continue\n",
    "        specialty = specialty_element.text.strip().split(',')[0]\n",
    "        location_element = card.find(\"span\", attrs = {\"class\": \"address\"})\n",
    "        if location_element == None:\n",
    "            continue\n",
    "        location = location_element.text.strip().split(',')[0]\n",
    "        rating_element = card.find(\"span\", attrs = {\"class\": \"rating-text\"})\n",
    "        if rating_element == None:\n",
    "            continue\n",
    "        rating = rating_element.text.strip('')\n",
    "        reviews_element = str(card.select(\"a[href*=reviews]\"))\n",
    "        if reviews_element == None:\n",
    "            continue\n",
    "        reviews = ''.join(re.findall(r'\\d+', reviews_element))\n",
    "        row = (name, specialty, location, rating, reviews)\n",
    "        data.append(row)\n",
    "        \n",
    "    return (data)\n",
    "    \n"
   ]
  },
  {
   "cell_type": "code",
   "execution_count": 93,
   "metadata": {
    "scrolled": true
   },
   "outputs": [],
   "source": [
    "import csv\n",
    "\n",
    "with open('healthreviews.csv','w') as csvfile:\n",
    "    writer = csv.writer(csvfile)\n",
    "    titlerow = (\"Name\", \"Specialty\", \"Location\", \"Rating\", \"Reviews\")\n",
    "    writer.writerow(titlerow)\n",
    "    for page in range(1, 43):\n",
    "        all_rows = parse_page(\"/home/katya/Documents/Py Final Project/Pages/Vitals\" + str(page) + \".html\")\n",
    "        for row in all_rows:\n",
    "            writer.writerow(row)\n",
    "        "
   ]
  }
 ],
 "metadata": {
  "kernelspec": {
   "display_name": "Python 3",
   "language": "python",
   "name": "python3"
  },
  "language_info": {
   "codemirror_mode": {
    "name": "ipython",
    "version": 3
   },
   "file_extension": ".py",
   "mimetype": "text/x-python",
   "name": "python",
   "nbconvert_exporter": "python",
   "pygments_lexer": "ipython3",
   "version": "3.6.3"
  }
 },
 "nbformat": 4,
 "nbformat_minor": 1
}
